{
 "cells": [
  {
   "cell_type": "markdown",
   "id": "79c65811-b6ba-452a-84b9-846a41eeed0d",
   "metadata": {},
   "source": [
    "### Импортируем необходимые библиотеки для работы с данными "
   ]
  },
  {
   "cell_type": "code",
   "execution_count": 1,
   "id": "f499daf4-23a4-4b0f-a2ea-8f2d30ad593d",
   "metadata": {},
   "outputs": [],
   "source": [
    "import pandas as pd\n",
    "import pandahouse as ph\n",
    "import numpy as np\n",
    "import scipy.stats as stats\n",
    "import seaborn as sns\n",
    "import matplotlib.pyplot as plt\n",
    "\n",
    "#параметры соединения - нужны, чтобы подключиться к нужной схеме данных\n",
    "connection = {'host': 'https://clickhouse.lab.karpov.courses',\n",
    "'database':'simulator_20250220',\n",
    "'user':'student',\n",
    "'password':'dpo_python_2020'\n",
    "}\n",
    "\n",
    "#текст запроса\n",
    "query = \"\"\"\n",
    "SELECT exp_group, \n",
    "    user_id,\n",
    "    sum(action = 'like') as likes,\n",
    "    sum(action = 'view') as views,\n",
    "    likes/views as ctr\n",
    "FROM {db}.feed_actions \n",
    "WHERE toDate(time) between '2025-01-31' and '2025-02-06'\n",
    "    and exp_group in (2,1)\n",
    "GROUP BY exp_group, user_id\n",
    "\"\"\"\n",
    "\n",
    "# эта функция выполнит запрос и запишет его результат в pandas DataFrame\n",
    "df = ph.read_clickhouse(query, connection=connection)"
   ]
  },
  {
   "cell_type": "code",
   "execution_count": 2,
   "id": "7a50a41f-a0b1-468a-a26d-39d60dcc250b",
   "metadata": {},
   "outputs": [
    {
     "data": {
      "text/html": [
       "<div>\n",
       "<style scoped>\n",
       "    .dataframe tbody tr th:only-of-type {\n",
       "        vertical-align: middle;\n",
       "    }\n",
       "\n",
       "    .dataframe tbody tr th {\n",
       "        vertical-align: top;\n",
       "    }\n",
       "\n",
       "    .dataframe thead th {\n",
       "        text-align: right;\n",
       "    }\n",
       "</style>\n",
       "<table border=\"1\" class=\"dataframe\">\n",
       "  <thead>\n",
       "    <tr style=\"text-align: right;\">\n",
       "      <th></th>\n",
       "      <th>exp_group</th>\n",
       "      <th>user_id</th>\n",
       "      <th>likes</th>\n",
       "      <th>views</th>\n",
       "      <th>ctr</th>\n",
       "    </tr>\n",
       "  </thead>\n",
       "  <tbody>\n",
       "    <tr>\n",
       "      <th>0</th>\n",
       "      <td>1</td>\n",
       "      <td>109963</td>\n",
       "      <td>3</td>\n",
       "      <td>15</td>\n",
       "      <td>0.200000</td>\n",
       "    </tr>\n",
       "    <tr>\n",
       "      <th>1</th>\n",
       "      <td>1</td>\n",
       "      <td>26117</td>\n",
       "      <td>32</td>\n",
       "      <td>141</td>\n",
       "      <td>0.226950</td>\n",
       "    </tr>\n",
       "    <tr>\n",
       "      <th>2</th>\n",
       "      <td>1</td>\n",
       "      <td>138232</td>\n",
       "      <td>18</td>\n",
       "      <td>73</td>\n",
       "      <td>0.246575</td>\n",
       "    </tr>\n",
       "    <tr>\n",
       "      <th>3</th>\n",
       "      <td>1</td>\n",
       "      <td>26295</td>\n",
       "      <td>39</td>\n",
       "      <td>141</td>\n",
       "      <td>0.276596</td>\n",
       "    </tr>\n",
       "    <tr>\n",
       "      <th>4</th>\n",
       "      <td>1</td>\n",
       "      <td>18392</td>\n",
       "      <td>7</td>\n",
       "      <td>32</td>\n",
       "      <td>0.218750</td>\n",
       "    </tr>\n",
       "  </tbody>\n",
       "</table>\n",
       "</div>"
      ],
      "text/plain": [
       "   exp_group  user_id  likes  views       ctr\n",
       "0          1   109963      3     15  0.200000\n",
       "1          1    26117     32    141  0.226950\n",
       "2          1   138232     18     73  0.246575\n",
       "3          1    26295     39    141  0.276596\n",
       "4          1    18392      7     32  0.218750"
      ]
     },
     "execution_count": 2,
     "metadata": {},
     "output_type": "execute_result"
    }
   ],
   "source": [
    "df.head()"
   ]
  },
  {
   "cell_type": "code",
   "execution_count": 3,
   "id": "a9c33c2f-b927-4e23-921e-feebb1801164",
   "metadata": {},
   "outputs": [
    {
     "data": {
      "text/html": [
       "<div>\n",
       "<style scoped>\n",
       "    .dataframe tbody tr th:only-of-type {\n",
       "        vertical-align: middle;\n",
       "    }\n",
       "\n",
       "    .dataframe tbody tr th {\n",
       "        vertical-align: top;\n",
       "    }\n",
       "\n",
       "    .dataframe thead th {\n",
       "        text-align: right;\n",
       "    }\n",
       "</style>\n",
       "<table border=\"1\" class=\"dataframe\">\n",
       "  <thead>\n",
       "    <tr style=\"text-align: right;\">\n",
       "      <th></th>\n",
       "      <th>user_id</th>\n",
       "      <th>likes</th>\n",
       "      <th>views</th>\n",
       "      <th>ctr</th>\n",
       "    </tr>\n",
       "    <tr>\n",
       "      <th>exp_group</th>\n",
       "      <th></th>\n",
       "      <th></th>\n",
       "      <th></th>\n",
       "      <th></th>\n",
       "    </tr>\n",
       "  </thead>\n",
       "  <tbody>\n",
       "    <tr>\n",
       "      <th>1</th>\n",
       "      <td>10020</td>\n",
       "      <td>10020</td>\n",
       "      <td>10020</td>\n",
       "      <td>10020</td>\n",
       "    </tr>\n",
       "    <tr>\n",
       "      <th>2</th>\n",
       "      <td>9877</td>\n",
       "      <td>9877</td>\n",
       "      <td>9877</td>\n",
       "      <td>9877</td>\n",
       "    </tr>\n",
       "  </tbody>\n",
       "</table>\n",
       "</div>"
      ],
      "text/plain": [
       "           user_id  likes  views    ctr\n",
       "exp_group                              \n",
       "1            10020  10020  10020  10020\n",
       "2             9877   9877   9877   9877"
      ]
     },
     "execution_count": 3,
     "metadata": {},
     "output_type": "execute_result"
    }
   ],
   "source": [
    "# Проверим , что в группах примерно одинаковое количество пользователей\n",
    "df.groupby('exp_group').count()"
   ]
  },
  {
   "cell_type": "code",
   "execution_count": 4,
   "id": "ffcf44cb-ae68-4b00-8c52-3c9af7118178",
   "metadata": {},
   "outputs": [
    {
     "data": {
      "image/png": "[encoded data removed]",
      "text/plain": [
       "<Figure size 432x288 with 1 Axes>"
      ]
     },
     "metadata": {
      "needs_background": "light"
     },
     "output_type": "display_data"
    }
   ],
   "source": [
    "# Посмотрим как выглядят наши распределения\n",
    "sns.set(rc={'figure.figsize':(11.7,8.27)})\n",
    "\n",
    "groups = sns.histplot(data = df, \n",
    "              x='ctr', \n",
    "              hue='exp_group', \n",
    "              palette = ['r', 'b'],\n",
    "              alpha=0.5,\n",
    "              kde=False)"
   ]
  },
  {
   "cell_type": "markdown",
   "id": "fa77c867-95fc-4c23-ae09-09c17ff9e6ff",
   "metadata": {},
   "source": [
    "## Сформулируем нулевую и альтернативную гипотезы для проведения t-теста:\n",
    "- H0 - разницы в средних CTR в 1 и 2 группах нет;\n",
    "- H1 - разница в средних CTR в 1 и 2 группах есть."
   ]
  },
  {
   "cell_type": "code",
   "execution_count": 5,
   "id": "2e817ca2-ef0b-4354-9872-2e3470e171a2",
   "metadata": {},
   "outputs": [
    {
     "name": "stdout",
     "output_type": "stream",
     "text": [
      "Результаты t-теста: Т-статистика = 0.4051491913112757, p-value = 0.685373331140751\n"
     ]
    }
   ],
   "source": [
    "t_stat, p_val = stats.ttest_ind(df[df['exp_group'] == 1].ctr, df[df['exp_group'] == 2].ctr, equal_var=False)\n",
    "print(f'Результаты t-теста: Т-статистика = {t_stat}, p-value = {p_val}')"
   ]
  },
  {
   "cell_type": "markdown",
   "id": "16c295aa-2b9f-43b0-bb80-d0d12311a3b2",
   "metadata": {},
   "source": [
    "В результате оценки результатов А/B - теста при помощи t-критерия Стьюдента мы получили `p-value = 0.68`, что больше чем 0.05 и можем сказать , что у нас недостаточно оснований , чтобы отклонить нулевую гипотезу о равенстве средних CTR в группах 1 и 2 , а значит статистически значимых различий в средних CTR нет, что , кстати, не совсем объясняет график распределений CTR обеих групп! Распределение CTR контрольноц группы имеет бимодальный характер, а t-тест не учитывает разницу в распределениях контрольной и тестовой группы, а просто оценивает разницу в средних значениях!"
   ]
  },
  {
   "cell_type": "markdown",
   "id": "bf694fca-5f13-40d6-ab7b-742bda6ff2e0",
   "metadata": {},
   "source": [
    "## Сформулируем нулевую и альтернативную гипотеезы для проведения теста Манна-Уитни:\n",
    "- H0 - P(X>Y) = P(Y>X), то есть данные в 1 и 2 группах взяты из одного распределения;\n",
    "- H1 - P(X>Y) != P(Y>X), то есть данные в 1 и 2 группах взяты из разных распределений."
   ]
  },
  {
   "cell_type": "code",
   "execution_count": 6,
   "id": "d129d784-e864-4366-9b38-6df505a108bb",
   "metadata": {},
   "outputs": [
    {
     "name": "stdout",
     "output_type": "stream",
     "text": [
      "Результаты теста Манна-Уитни: U-статистика = 55189913.0, p-value = 4.632205841806026e-45\n"
     ]
    }
   ],
   "source": [
    "u_stat, p_val = stats.mannwhitneyu(df[df['exp_group'] == 1].ctr, df[df['exp_group'] == 2].ctr, alternative='two-sided')\n",
    "print(f'Результаты теста Манна-Уитни: U-статистика = {u_stat}, p-value = {p_val}')"
   ]
  },
  {
   "cell_type": "markdown",
   "id": "1bec2a6c-4256-433a-bb14-aa2b61e8b362",
   "metadata": {},
   "source": [
    "Как мы видим тест Манна-Уитни таки прокрасился и мы получили `p-value = 4.632205841806026e-45`, что сильно меньше 0.05 , а это означает, что мы можем отвергнуть нулевую гипотезу и сказать что CTR в группах 1 и 2 взяты из разных распределений, что мы, как раз таки и видели на гистограмме распределений 1 и 2 групп!"
   ]
  },
  {
   "cell_type": "markdown",
   "id": "02dd3805-4ceb-4387-8d96-9e0ce3dd4b4b",
   "metadata": {},
   "source": [
    "## Так как мы поняли , что у нас данные из разных распределений , попробуем поработать со сглаженным CTR и сформулируем нулевую и альтернативную гипотеезы для проведения t-теста на сглаженных CTR:\n",
    "- H0 - разницы в сглаженных средних CTR в 1 и 2 группах нет;\n",
    "- H1 - разница в сглаженных средних CTR в 1 и 2 группах есть."
   ]
  },
  {
   "cell_type": "code",
   "execution_count": 7,
   "id": "5051944d-491c-4a96-bde1-eb88de81493e",
   "metadata": {},
   "outputs": [],
   "source": [
    "# Функция для расчёта сглаженного CTR\n",
    "def get_smothed_ctr(user_likes, user_views, global_ctr, alpha):\n",
    "    smothed_ctr = (user_likes + alpha * global_ctr) / (user_views + alpha)\n",
    "    return smothed_ctr"
   ]
  },
  {
   "cell_type": "code",
   "execution_count": 8,
   "id": "a7b8ebb5-358f-424a-8d0c-923baba67e6c",
   "metadata": {},
   "outputs": [],
   "source": [
    "global_ctr_1 = df[df.exp_group == 1].likes.sum()/df[df.exp_group == 1].views.sum()\n",
    "global_ctr_2 = df[df.exp_group == 2].likes.sum()/df[df.exp_group == 2].views.sum()"
   ]
  },
  {
   "cell_type": "code",
   "execution_count": 9,
   "id": "8f099076-8264-42b5-aca4-271aab2625fd",
   "metadata": {},
   "outputs": [
    {
     "name": "stderr",
     "output_type": "stream",
     "text": [
      "/tmp/ipykernel_100/2181465673.py:4: UserWarning: \n",
      "\n",
      "`distplot` is a deprecated function and will be removed in seaborn v0.14.0.\n",
      "\n",
      "Please adapt your code to use either `displot` (a figure-level function with\n",
      "similar flexibility) or `histplot` (an axes-level function for histograms).\n",
      "\n",
      "For a guide to updating your code to use the new functions, please see\n",
      "https://gist.github.com/mwaskom/de44147ed2974457ad6372750bbe5751\n",
      "\n",
      "  sns.distplot(group2.ctr,\n"
     ]
    },
    {
     "data": {
      "text/plain": [
       "<Axes: xlabel='ctr'>"
      ]
     },
     "execution_count": 9,
     "metadata": {},
     "output_type": "execute_result"
    },
    {
     "data": {
      "image/png": "[encoded data removed]",
      "text/plain": [
       "<Figure size 432x288 with 1 Axes>"
      ]
     },
     "metadata": {
      "needs_background": "light"
     },
     "output_type": "display_data"
    }
   ],
   "source": [
    "# Посмотрим как выглядел CTR именно тестовой группы до сглаживания\n",
    "group1 = df[df.exp_group == 1].copy()\n",
    "group2 = df[df.exp_group == 2].copy()\n",
    "sns.distplot(group2.ctr, \n",
    "             kde = False)"
   ]
  },
  {
   "cell_type": "code",
   "execution_count": 10,
   "id": "30479d01-e818-499b-905f-04ec15986cd7",
   "metadata": {},
   "outputs": [
    {
     "name": "stderr",
     "output_type": "stream",
     "text": [
      "/tmp/ipykernel_100/2795933523.py:6: UserWarning: \n",
      "\n",
      "`distplot` is a deprecated function and will be removed in seaborn v0.14.0.\n",
      "\n",
      "Please adapt your code to use either `displot` (a figure-level function with\n",
      "similar flexibility) or `histplot` (an axes-level function for histograms).\n",
      "\n",
      "For a guide to updating your code to use the new functions, please see\n",
      "https://gist.github.com/mwaskom/de44147ed2974457ad6372750bbe5751\n",
      "\n",
      "  sns.distplot(group2.smothed_ctr,\n"
     ]
    },
    {
     "data": {
      "text/plain": [
       "<Axes: xlabel='smothed_ctr'>"
      ]
     },
     "execution_count": 10,
     "metadata": {},
     "output_type": "execute_result"
    },
    {
     "data": {
      "image/png": "[encoded data removed]",
      "text/plain": [
       "<Figure size 432x288 with 1 Axes>"
      ]
     },
     "metadata": {
      "needs_background": "light"
     },
     "output_type": "display_data"
    }
   ],
   "source": [
    "group2['smothed_ctr'] = df.apply(\n",
    "    lambda x: get_smothed_ctr(x['likes'], x['views'], global_ctr_2, 5), axis=1)\n",
    "group1['smothed_ctr'] = df.apply(\n",
    "    lambda x: get_smothed_ctr(x['likes'], x['views'], global_ctr_1, 5), axis=1)\n",
    "\n",
    "sns.distplot(group2.smothed_ctr, \n",
    "             kde = False)"
   ]
  },
  {
   "cell_type": "code",
   "execution_count": 11,
   "id": "b84a88a7-9900-4853-aa6b-9062ad956452",
   "metadata": {},
   "outputs": [
    {
     "name": "stdout",
     "output_type": "stream",
     "text": [
      "Результаты t-теста: Т-статистика = 1.9460491517027683, p-value = 0.05166679015318526\n"
     ]
    }
   ],
   "source": [
    "t_stat, p_val = stats.ttest_ind(group1.smothed_ctr, group2.smothed_ctr, equal_var=False)\n",
    "print(f'Результаты t-теста: Т-статистика = {t_stat}, p-value = {p_val}')"
   ]
  },
  {
   "cell_type": "markdown",
   "id": "63a12953-df42-4511-827a-e7c8ad420730",
   "metadata": {},
   "source": [
    "В результате проведения t-теста на сглаженных CTR , мы видим , что на этот раз `p-value = 0.0516`, что уже гораздо ближе к заветным 0.05, но всё же больше порога значимости, а это означает , что в данном тесте у нас недостаточно оснований , чтобы отвергнуть нулевую гипотезу и средний CTR в группах 1 и 2 статистически значимо не отличается! Так же, не забываем , что в тесте со сглаженным CTR мы используем гиперпараметр `alpha = 5`, что не гарантирует нам корректные результаты из-за отсутсвия гарантии в однонаправленности сглаженного CTR и общего количества кликов. "
   ]
  },
  {
   "cell_type": "markdown",
   "id": "eee63f72-ebbe-4112-9fde-241bbd082bfa",
   "metadata": {},
   "source": [
    "Что же, мы посмотрели на статистическую значимость в отличиях средних CTR в группах, теперь мы хотим проанализировать отличия общего CTR в группах 1 и 2! Для это нам необходимо нагенерировать подвыборок, в каждой из которых мы будем считать глобальный CTR в контрольной и тестовой группе, а затем сравнивать изменения в глобальных CTR! Для этого воспользуемся Пуассоновским бутстрапом! \n",
    "## Сформулируем нулевую и альтернативную гипотезы для проведения Пуассоновского бутстрапа! \n",
    "- H0 - разницы в глобальных CTR в 1 и 2 группах нет;\n",
    "- H1 - разница в глобальных CTR в 1 и 2 группах есть."
   ]
  },
  {
   "cell_type": "code",
   "execution_count": 12,
   "id": "478326f5-beae-4700-a71a-4b1bdb151748",
   "metadata": {},
   "outputs": [
    {
     "data": {
      "text/plain": [
       "<Axes: ylabel='Count'>"
      ]
     },
     "execution_count": 12,
     "metadata": {},
     "output_type": "execute_result"
    },
    {
     "data": {
      "image/png": "[encoded data removed]",
      "text/plain": [
       "<Figure size 432x288 with 1 Axes>"
      ]
     },
     "metadata": {
      "needs_background": "light"
     },
     "output_type": "display_data"
    }
   ],
   "source": [
    "def bootstrap(likes1, views1, likes2, views2, n_bootstrap=2000):\n",
    "\n",
    "    poisson_bootstraps1 = stats.poisson(1).rvs(\n",
    "        (n_bootstrap, len(likes1))).astype(np.int64)\n",
    "\n",
    "    poisson_bootstraps2 = stats.poisson(1).rvs(\n",
    "            (n_bootstrap, len(likes2))).astype(np.int64)\n",
    "    \n",
    "    globalCTR1 = (poisson_bootstraps1*likes1).sum(axis=1)/(poisson_bootstraps1*views1).sum(axis=1)\n",
    "    \n",
    "    globalCTR2 = (poisson_bootstraps2*likes2).sum(axis=1)/(poisson_bootstraps2*views2).sum(axis=1)\n",
    "\n",
    "    return globalCTR1, globalCTR2\n",
    "\n",
    "\n",
    "likes1 = df[df.exp_group == 1].likes.to_numpy()\n",
    "views1 = df[df.exp_group == 1].views.to_numpy()\n",
    "likes2 = df[df.exp_group == 2].likes.to_numpy()\n",
    "views2 = df[df.exp_group == 2].views.to_numpy()\n",
    "\n",
    "ctr1, ctr2 = bootstrap(likes1, views1, likes2, views2)\n",
    "\n",
    "sns.histplot(ctr1)\n",
    "sns.histplot(ctr2)"
   ]
  },
  {
   "cell_type": "code",
   "execution_count": 13,
   "id": "a6645818-bae8-4ec2-b6cb-a0ed0c1bb0f6",
   "metadata": {},
   "outputs": [
    {
     "data": {
      "text/plain": [
       "<Axes: ylabel='Count'>"
      ]
     },
     "execution_count": 13,
     "metadata": {},
     "output_type": "execute_result"
    },
    {
     "data": {
      "image/png": "[encoded data removed]",
      "text/plain": [
       "<Figure size 432x288 with 1 Axes>"
      ]
     },
     "metadata": {
      "needs_background": "light"
     },
     "output_type": "display_data"
    }
   ],
   "source": [
    "#Разница между глобальными CTR\n",
    "sns.histplot(ctr1 - ctr2)"
   ]
  },
  {
   "cell_type": "markdown",
   "id": "8c8f8eb2-ac6f-451e-98aa-8a58cdf67372",
   "metadata": {},
   "source": [
    "Итак , распределение разниц между глобальными CTR не включает в себя 0 на оси X , а это означает , что мы получили статистически значимые различия в группах, причём глобальный CTR 1й или контрольной группы, оказался статистически значимо больше глобального CTR 2й или тестовой группы!"
   ]
  },
  {
   "cell_type": "markdown",
   "id": "4edf3292-6d47-4767-989d-69bbb64e3781",
   "metadata": {},
   "source": [
    "## Ну и проведём исследование изменений в CTR поверх бакетного преобразования с помощью тестов Манна-Уитни и t-тест!"
   ]
  },
  {
   "cell_type": "code",
   "execution_count": 14,
   "id": "bb4a5d26-acfa-4efb-83d2-447d3d819487",
   "metadata": {},
   "outputs": [],
   "source": [
    "q = \"\"\"\n",
    "\n",
    "SELECT exp_group, bucket,\n",
    "    sum(likes)/sum(views) as bucket_ctr\n",
    "FROM (SELECT exp_group, \n",
    "        xxHash64(user_id)%50 as bucket,\n",
    "        user_id,\n",
    "        sum(action = 'like') as likes,\n",
    "        sum(action = 'view') as views,\n",
    "        likes/views as ctr\n",
    "    FROM {db}.feed_actions \n",
    "    WHERE toDate(time) between '2025-01-31' and '2025-02-06'\n",
    "        and exp_group in (1,2)\n",
    "    GROUP BY exp_group, bucket, user_id)\n",
    "GROUP BY exp_group, bucket\n",
    "\"\"\"\n",
    "\n",
    "df = ph.read_clickhouse(q, connection=connection)"
   ]
  },
  {
   "cell_type": "code",
   "execution_count": 15,
   "id": "4c21b959-7cfe-4fa3-8952-68c80d7854f1",
   "metadata": {},
   "outputs": [
    {
     "data": {
      "text/plain": [
       "MannwhitneyuResult(statistic=1997.0, pvalue=2.6576427804010095e-07)"
      ]
     },
     "execution_count": 15,
     "metadata": {},
     "output_type": "execute_result"
    }
   ],
   "source": [
    "#тест Манна-Уитни видит отличие\n",
    "stats.mannwhitneyu(df[df.exp_group == 1].bucket_ctr, \n",
    "                   df[df.exp_group == 2].bucket_ctr, \n",
    "                   alternative = 'two-sided')"
   ]
  },
  {
   "cell_type": "code",
   "execution_count": 16,
   "id": "0002e261-ea1a-48e4-a4c3-3a745bab4539",
   "metadata": {},
   "outputs": [
    {
     "data": {
      "text/plain": [
       "Ttest_indResult(statistic=5.614819358149381, pvalue=4.592644937473873e-07)"
      ]
     },
     "execution_count": 16,
     "metadata": {},
     "output_type": "execute_result"
    }
   ],
   "source": [
    "#и t-тест тоже\n",
    "stats.ttest_ind(df[df.exp_group == 1].bucket_ctr, \n",
    "                   df[df.exp_group == 2].bucket_ctr, \n",
    "                   equal_var = False)"
   ]
  },
  {
   "cell_type": "code",
   "execution_count": 17,
   "id": "67f91cae-075a-4721-986a-fcb59687e8da",
   "metadata": {},
   "outputs": [
    {
     "data": {
      "text/plain": [
       "<Axes: xlabel='bucket_ctr', ylabel='Count'>"
      ]
     },
     "execution_count": 17,
     "metadata": {},
     "output_type": "execute_result"
    },
    {
     "data": {
      "image/png": "[encoded data removed]",
      "text/plain": [
       "<Figure size 432x288 with 1 Axes>"
      ]
     },
     "metadata": {
      "needs_background": "light"
     },
     "output_type": "display_data"
    }
   ],
   "source": [
    "# Распределения бакетных CTR c натяжкой похоже на нормальное (в контрольной группе)\n",
    "sns.histplot(df[df.exp_group == 1].bucket_ctr, bins=20)\n",
    "sns.histplot(df[df.exp_group == 2].bucket_ctr, bins=20)"
   ]
  },
  {
   "cell_type": "markdown",
   "id": "22e6d0f4-8ced-4df9-ba6a-63165a7c6155",
   "metadata": {},
   "source": [
    "## Выводы:\n",
    "\n",
    "1. Сразу хочется оговориться, что данное исследование ярко демонстрирует такую проблему в А/B - тестировании как попарное сравнение, то есть использование или перебор разных тестов! Мы видим , что некоторые из них прокрасились, а некоторые нет! И как же делать вывод? По идее, когда мы имеем дело, с попарными сравнениями, мы должны вносить поправки в уровень значимости, то есть , грубо говоря, кратно количеству используемых тестов, уменьшить порог значимости! Иначе получилось бы исследование, в котором мы как бы \"охотимся\" за желаемым результатом и ищем нужный нам p-value, а это недопустимо, если мы не хотим сильно завысить вероятность ошибки 1-го рода! Но это не про данный урок, по этому идём дальше!\n",
    "2. Что касается нашего конкретного исследования CTR, то так как по условия задания основная гипотеза заключается в том, что новый алгоритм во 2-й группе приведет к увеличению CTR! Не среднего CTR в группе, а глобального CTR 2-й группы! Таким образом, я буду обращать внимание на тесты Пуассоновский бутстрап и тесты поверх бакетного преобразования, потому как именно они дают нам результаты изменений в глобальном CTR между группами! \n",
    "3. И Пуассоновский бутстрап, и тесты Манна-Уитни и t-тест поверх бакетного преобразования , показали статистически значимые различия в глобальных CTR в группах, но также они показали , что глобальный CTR в группе 1 , или контрольной, выше чем CTR в группе 2 , или тестовой! Следовательно я дам рекомендации о том, что изменения, которые были применены к группе 2 не стоит выкатывать в прод!"
   ]
  }
 ],
 "metadata": {
  "kernelspec": {
   "display_name": "Python 3 (ipykernel)",
   "language": "python",
   "name": "python3"
  },
  "language_info": {
   "codemirror_mode": {
    "name": "ipython",
    "version": 3
   },
   "file_extension": ".py",
   "mimetype": "text/x-python",
   "name": "python",
   "nbconvert_exporter": "python",
   "pygments_lexer": "ipython3",
   "version": "3.12.6"
  }
 },
 "nbformat": 4,
 "nbformat_minor": 5
}
