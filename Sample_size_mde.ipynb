{
 "cells": [
  {
   "cell_type": "markdown",
   "id": "a3a63adb-05bb-4720-9c2d-cd0cbe156079",
   "metadata": {},
   "source": [
    "### Импортируем необходимые библиотеки для работы с данными "
   ]
  },
  {
   "cell_type": "code",
   "execution_count": 1,
   "id": "a39eb531-8c0e-4842-bf27-43279915790b",
   "metadata": {},
   "outputs": [],
   "source": [
    "import pandahouse as ph\n",
    "import pandas as pd\n",
    "import seaborn as sns\n",
    "import matplotlib.pyplot as plt\n",
    "import numpy as np\n",
    "import hashlib # Делать хеши\n",
    "import swifter # Ускорялка метода apply\n",
    "from scipy import stats # Статистика\n",
    "from scipy.stats import norm, ttest_ind\n",
    "from tqdm import tqdm\n",
    "%matplotlib inline"
   ]
  },
  {
   "cell_type": "code",
   "execution_count": 2,
   "id": "6877c699-1e50-4626-8851-c631ca1e92d2",
   "metadata": {},
   "outputs": [],
   "source": [
    "#параметры соединения - нужны, чтобы подключиться к нужной схеме данных\n",
    "connection = {'host': 'https://clickhouse.lab.karpov.courses',\n",
    "'database':'simulator_20250220',\n",
    "'user':'student',\n",
    "'password':'dpo_python_2020'\n",
    "}\n",
    "\n",
    "#текст запроса\n",
    "query = \"\"\"\n",
    "select views, count() as users\n",
    "from (select  user_id,\n",
    "              sum(action = 'view') as views\n",
    "from  {db}.feed_actions\n",
    "where toDate(time) between '2025-01-24' and '2025-01-30'\n",
    "group by user_id\n",
    ")\n",
    "group by views\n",
    "order by views\n",
    "\"\"\"\n",
    "\n",
    "# эта функция выполнит запрос и запишет его результат в pandas DataFrame\n",
    "views_distribution = ph.read_clickhouse(query, connection=connection)"
   ]
  },
  {
   "cell_type": "code",
   "execution_count": 3,
   "id": "e2d3e28c-25e7-47be-949e-0139839c6442",
   "metadata": {},
   "outputs": [
    {
     "data": {
      "text/html": [
       "<div>\n",
       "<style scoped>\n",
       "    .dataframe tbody tr th:only-of-type {\n",
       "        vertical-align: middle;\n",
       "    }\n",
       "\n",
       "    .dataframe tbody tr th {\n",
       "        vertical-align: top;\n",
       "    }\n",
       "\n",
       "    .dataframe thead th {\n",
       "        text-align: right;\n",
       "    }\n",
       "</style>\n",
       "<table border=\"1\" class=\"dataframe\">\n",
       "  <thead>\n",
       "    <tr style=\"text-align: right;\">\n",
       "      <th></th>\n",
       "      <th>views</th>\n",
       "      <th>users</th>\n",
       "    </tr>\n",
       "  </thead>\n",
       "  <tbody>\n",
       "    <tr>\n",
       "      <th>0</th>\n",
       "      <td>1</td>\n",
       "      <td>4</td>\n",
       "    </tr>\n",
       "    <tr>\n",
       "      <th>1</th>\n",
       "      <td>2</td>\n",
       "      <td>1</td>\n",
       "    </tr>\n",
       "    <tr>\n",
       "      <th>2</th>\n",
       "      <td>3</td>\n",
       "      <td>4</td>\n",
       "    </tr>\n",
       "    <tr>\n",
       "      <th>3</th>\n",
       "      <td>4</td>\n",
       "      <td>5</td>\n",
       "    </tr>\n",
       "    <tr>\n",
       "      <th>4</th>\n",
       "      <td>5</td>\n",
       "      <td>18</td>\n",
       "    </tr>\n",
       "  </tbody>\n",
       "</table>\n",
       "</div>"
      ],
      "text/plain": [
       "   views  users\n",
       "0      1      4\n",
       "1      2      1\n",
       "2      3      4\n",
       "3      4      5\n",
       "4      5     18"
      ]
     },
     "execution_count": 3,
     "metadata": {},
     "output_type": "execute_result"
    }
   ],
   "source": [
    "views_distribution.head()"
   ]
  },
  {
   "cell_type": "code",
   "execution_count": 4,
   "id": "df9e6589-4ef4-4bb5-84e6-770bcfb2eb91",
   "metadata": {},
   "outputs": [
    {
     "data": {
      "text/plain": [
       "20998"
      ]
     },
     "execution_count": 4,
     "metadata": {},
     "output_type": "execute_result"
    }
   ],
   "source": [
    "# Количество юзеров в каждую группу для симуляций\n",
    "sample_size = views_distribution.users.sum() // 2\n",
    "sample_size"
   ]
  },
  {
   "cell_type": "markdown",
   "id": "19e43994-859b-4650-aaea-806576741523",
   "metadata": {},
   "source": [
    "### Нормализуем данные и добавим колонку с вероятностью появления разного количества просмотров"
   ]
  },
  {
   "cell_type": "code",
   "execution_count": 5,
   "id": "5f4972f2-9c42-4474-bfb9-ac963791c24b",
   "metadata": {},
   "outputs": [],
   "source": [
    "views_distribution['p'] = views_distribution['users']/views_distribution.users.sum()"
   ]
  },
  {
   "cell_type": "code",
   "execution_count": 6,
   "id": "a4694044-52ee-4cff-bb62-435b4f7d55d3",
   "metadata": {},
   "outputs": [
    {
     "data": {
      "text/html": [
       "<div>\n",
       "<style scoped>\n",
       "    .dataframe tbody tr th:only-of-type {\n",
       "        vertical-align: middle;\n",
       "    }\n",
       "\n",
       "    .dataframe tbody tr th {\n",
       "        vertical-align: top;\n",
       "    }\n",
       "\n",
       "    .dataframe thead th {\n",
       "        text-align: right;\n",
       "    }\n",
       "</style>\n",
       "<table border=\"1\" class=\"dataframe\">\n",
       "  <thead>\n",
       "    <tr style=\"text-align: right;\">\n",
       "      <th></th>\n",
       "      <th>views</th>\n",
       "      <th>users</th>\n",
       "      <th>p</th>\n",
       "    </tr>\n",
       "  </thead>\n",
       "  <tbody>\n",
       "    <tr>\n",
       "      <th>15</th>\n",
       "      <td>16</td>\n",
       "      <td>545</td>\n",
       "      <td>0.012977</td>\n",
       "    </tr>\n",
       "    <tr>\n",
       "      <th>14</th>\n",
       "      <td>15</td>\n",
       "      <td>537</td>\n",
       "      <td>0.012787</td>\n",
       "    </tr>\n",
       "    <tr>\n",
       "      <th>13</th>\n",
       "      <td>14</td>\n",
       "      <td>500</td>\n",
       "      <td>0.011906</td>\n",
       "    </tr>\n",
       "    <tr>\n",
       "      <th>34</th>\n",
       "      <td>35</td>\n",
       "      <td>485</td>\n",
       "      <td>0.011548</td>\n",
       "    </tr>\n",
       "    <tr>\n",
       "      <th>29</th>\n",
       "      <td>30</td>\n",
       "      <td>469</td>\n",
       "      <td>0.011167</td>\n",
       "    </tr>\n",
       "    <tr>\n",
       "      <th>...</th>\n",
       "      <td>...</td>\n",
       "      <td>...</td>\n",
       "      <td>...</td>\n",
       "    </tr>\n",
       "    <tr>\n",
       "      <th>280</th>\n",
       "      <td>287</td>\n",
       "      <td>1</td>\n",
       "      <td>0.000024</td>\n",
       "    </tr>\n",
       "    <tr>\n",
       "      <th>278</th>\n",
       "      <td>285</td>\n",
       "      <td>1</td>\n",
       "      <td>0.000024</td>\n",
       "    </tr>\n",
       "    <tr>\n",
       "      <th>276</th>\n",
       "      <td>280</td>\n",
       "      <td>1</td>\n",
       "      <td>0.000024</td>\n",
       "    </tr>\n",
       "    <tr>\n",
       "      <th>1</th>\n",
       "      <td>2</td>\n",
       "      <td>1</td>\n",
       "      <td>0.000024</td>\n",
       "    </tr>\n",
       "    <tr>\n",
       "      <th>300</th>\n",
       "      <td>370</td>\n",
       "      <td>1</td>\n",
       "      <td>0.000024</td>\n",
       "    </tr>\n",
       "  </tbody>\n",
       "</table>\n",
       "<p>301 rows × 3 columns</p>\n",
       "</div>"
      ],
      "text/plain": [
       "     views  users         p\n",
       "15      16    545  0.012977\n",
       "14      15    537  0.012787\n",
       "13      14    500  0.011906\n",
       "34      35    485  0.011548\n",
       "29      30    469  0.011167\n",
       "..     ...    ...       ...\n",
       "280    287      1  0.000024\n",
       "278    285      1  0.000024\n",
       "276    280      1  0.000024\n",
       "1        2      1  0.000024\n",
       "300    370      1  0.000024\n",
       "\n",
       "[301 rows x 3 columns]"
      ]
     },
     "execution_count": 6,
     "metadata": {},
     "output_type": "execute_result"
    }
   ],
   "source": [
    "views_distribution.sort_values(by = 'p', ascending = False)"
   ]
  },
  {
   "cell_type": "code",
   "execution_count": 7,
   "id": "5402699f-744f-4017-b180-1cdcfb5e6128",
   "metadata": {},
   "outputs": [],
   "source": [
    "q = \"\"\"\n",
    "select \n",
    "   floor(ctr, 2) as ctr, count() as users\n",
    "from (select toDate(time) as dt,\n",
    "            user_id,\n",
    "            sum(action = 'like')/sum(action = 'view') as ctr\n",
    "from {db}.feed_actions\n",
    "where dt between '2025-01-24' and '2025-01-30'\n",
    "group by dt, user_id\n",
    ")\n",
    "group by ctr\n",
    "\"\"\"\n",
    "\n",
    "\n",
    "ctr_distribution = ph.read_clickhouse(q, connection=connection)\n",
    "ctr_distribution['p'] = ctr_distribution['users']/ctr_distribution.users.sum()"
   ]
  },
  {
   "cell_type": "markdown",
   "id": "ca872855-fb0f-4a31-b634-14e26e7fc6df",
   "metadata": {},
   "source": [
    "### Добавим колонку с вероятностью появления разного CTR"
   ]
  },
  {
   "cell_type": "code",
   "execution_count": 8,
   "id": "887eee31-4622-420e-9f88-7a5256699fbe",
   "metadata": {},
   "outputs": [
    {
     "data": {
      "text/html": [
       "<div>\n",
       "<style scoped>\n",
       "    .dataframe tbody tr th:only-of-type {\n",
       "        vertical-align: middle;\n",
       "    }\n",
       "\n",
       "    .dataframe tbody tr th {\n",
       "        vertical-align: top;\n",
       "    }\n",
       "\n",
       "    .dataframe thead th {\n",
       "        text-align: right;\n",
       "    }\n",
       "</style>\n",
       "<table border=\"1\" class=\"dataframe\">\n",
       "  <thead>\n",
       "    <tr style=\"text-align: right;\">\n",
       "      <th></th>\n",
       "      <th>ctr</th>\n",
       "      <th>users</th>\n",
       "      <th>p</th>\n",
       "    </tr>\n",
       "  </thead>\n",
       "  <tbody>\n",
       "    <tr>\n",
       "      <th>17</th>\n",
       "      <td>0.20</td>\n",
       "      <td>4993</td>\n",
       "      <td>0.058658</td>\n",
       "    </tr>\n",
       "    <tr>\n",
       "      <th>33</th>\n",
       "      <td>0.16</td>\n",
       "      <td>4233</td>\n",
       "      <td>0.049729</td>\n",
       "    </tr>\n",
       "    <tr>\n",
       "      <th>50</th>\n",
       "      <td>0.25</td>\n",
       "      <td>4216</td>\n",
       "      <td>0.049529</td>\n",
       "    </tr>\n",
       "    <tr>\n",
       "      <th>6</th>\n",
       "      <td>0.18</td>\n",
       "      <td>4213</td>\n",
       "      <td>0.049494</td>\n",
       "    </tr>\n",
       "    <tr>\n",
       "      <th>72</th>\n",
       "      <td>0.21</td>\n",
       "      <td>3957</td>\n",
       "      <td>0.046487</td>\n",
       "    </tr>\n",
       "    <tr>\n",
       "      <th>...</th>\n",
       "      <td>...</td>\n",
       "      <td>...</td>\n",
       "      <td>...</td>\n",
       "    </tr>\n",
       "    <tr>\n",
       "      <th>12</th>\n",
       "      <td>0.81</td>\n",
       "      <td>2</td>\n",
       "      <td>0.000023</td>\n",
       "    </tr>\n",
       "    <tr>\n",
       "      <th>73</th>\n",
       "      <td>0.83</td>\n",
       "      <td>1</td>\n",
       "      <td>0.000012</td>\n",
       "    </tr>\n",
       "    <tr>\n",
       "      <th>20</th>\n",
       "      <td>0.73</td>\n",
       "      <td>1</td>\n",
       "      <td>0.000012</td>\n",
       "    </tr>\n",
       "    <tr>\n",
       "      <th>51</th>\n",
       "      <td>1.00</td>\n",
       "      <td>1</td>\n",
       "      <td>0.000012</td>\n",
       "    </tr>\n",
       "    <tr>\n",
       "      <th>39</th>\n",
       "      <td>0.88</td>\n",
       "      <td>1</td>\n",
       "      <td>0.000012</td>\n",
       "    </tr>\n",
       "  </tbody>\n",
       "</table>\n",
       "<p>80 rows × 3 columns</p>\n",
       "</div>"
      ],
      "text/plain": [
       "     ctr  users         p\n",
       "17  0.20   4993  0.058658\n",
       "33  0.16   4233  0.049729\n",
       "50  0.25   4216  0.049529\n",
       "6   0.18   4213  0.049494\n",
       "72  0.21   3957  0.046487\n",
       "..   ...    ...       ...\n",
       "12  0.81      2  0.000023\n",
       "73  0.83      1  0.000012\n",
       "20  0.73      1  0.000012\n",
       "51  1.00      1  0.000012\n",
       "39  0.88      1  0.000012\n",
       "\n",
       "[80 rows x 3 columns]"
      ]
     },
     "execution_count": 8,
     "metadata": {},
     "output_type": "execute_result"
    }
   ],
   "source": [
    "ctr_distribution.sort_values(by = 'p', ascending = False)"
   ]
  },
  {
   "cell_type": "markdown",
   "id": "cc347f63-3e84-4e25-8966-911bbd088709",
   "metadata": {},
   "source": [
    "### Зададим распределения просмотров и CTR и проведём симуляции A/B - тестов"
   ]
  },
  {
   "cell_type": "code",
   "execution_count": 9,
   "id": "a5b300f5-0b79-4bcc-bb34-2b9fda1e3b9e",
   "metadata": {},
   "outputs": [],
   "source": [
    "rng = np.random.default_rng()"
   ]
  },
  {
   "cell_type": "code",
   "execution_count": 10,
   "id": "ad2536ae-8a95-44d5-9b4f-4f52e85d6141",
   "metadata": {},
   "outputs": [
    {
     "name": "stderr",
     "output_type": "stream",
     "text": [
      "100%|██████████| 20000/20000 [04:14<00:00, 78.59it/s]\n"
     ]
    }
   ],
   "source": [
    "p_values = []\n",
    "for _ in tqdm(range(20000)):\n",
    "    group_A_views = rng.choice(views_distribution['views'], size=(sample_size), replace=True, p=views_distribution['p']).astype(np.int64)\n",
    "    group_B_views = rng.choice(views_distribution['views'], size=(sample_size), replace=True, p=views_distribution['p']).astype(np.int64)\n",
    "    group_B_views = group_B_views + ((1 + rng.binomial(n=1, p=0.5, size=sample_size)) * rng.binomial(n=1, p=0.9, size=sample_size) * (group_B_views >= 50))\n",
    "\n",
    "    group_A_ctr = rng.choice(ctr_distribution['ctr'], size=(sample_size), replace=True, p=ctr_distribution['p'])\n",
    "    group_B_ctr = rng.choice(ctr_distribution['ctr'], size=(sample_size), replace=True, p=ctr_distribution['p'])\n",
    "    \n",
    "    likes_A = rng.binomial(group_A_views, group_A_ctr)\n",
    "    likes_B = rng.binomial(group_B_views, group_B_ctr)\n",
    "    \n",
    "    #mask_A = group_A_views >= 30\n",
    "    #mask_B = group_B_views >= 30\n",
    "    \n",
    "    p_values.append(stats.ttest_ind(likes_A, likes_B, equal_var=False).pvalue)"
   ]
  },
  {
   "cell_type": "markdown",
   "id": "cb54c76b-929e-480b-8207-cbe943ebfe4c",
   "metadata": {},
   "source": [
    "### Расчитаем мощность теста"
   ]
  },
  {
   "cell_type": "code",
   "execution_count": 11,
   "id": "6009106b-5364-4440-b572-5f867cc04aa6",
   "metadata": {},
   "outputs": [
    {
     "data": {
      "text/plain": [
       "26.355"
      ]
     },
     "execution_count": 11,
     "metadata": {},
     "output_type": "execute_result"
    }
   ],
   "source": [
    "power = len([i for i in p_values if i < 0.05]) * 100 / len(p_values)\n",
    "power"
   ]
  },
  {
   "cell_type": "code",
   "execution_count": null,
   "id": "34cbe32f-0c27-48e9-9273-02fadb29f63c",
   "metadata": {},
   "outputs": [],
   "source": []
  }
 ],
 "metadata": {
  "kernelspec": {
   "display_name": "Python 3 (ipykernel)",
   "language": "python",
   "name": "python3"
  },
  "language_info": {
   "codemirror_mode": {
    "name": "ipython",
    "version": 3
   },
   "file_extension": ".py",
   "mimetype": "text/x-python",
   "name": "python",
   "nbconvert_exporter": "python",
   "pygments_lexer": "ipython3",
   "version": "3.12.6"
  },
  "toc-showcode": false
 },
 "nbformat": 4,
 "nbformat_minor": 5
}
